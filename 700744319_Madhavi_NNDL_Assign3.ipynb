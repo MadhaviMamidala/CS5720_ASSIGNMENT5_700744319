{
  "cells": [
    {
      "cell_type": "code",
      "execution_count": 1,
      "metadata": {
        "id": "IIojf9jesFca"
      },
      "outputs": [],
      "source": [
        "import pandas as pd #Basic packages for creating dataframes and loading dataset\n",
        "import numpy as np\n",
        "\n",
        "import matplotlib.pyplot as plt #Package for visualization\n",
        "\n",
        "import re #importing package for Regular expression operations\n",
        "\n",
        "from sklearn.model_selection import train_test_split #Package for splitting the data\n",
        "\n",
        "from sklearn.preprocessing import LabelEncoder #Package for conversion of categorical to Numerical\n",
        "\n",
        "from keras.preprocessing.text import Tokenizer #Tokenization\n",
        "from tensorflow.keras.preprocessing.sequence import pad_sequences #Add zeros or crop based on the length\n",
        "from keras.models import Sequential #Sequential Neural Network\n",
        "from keras.layers import Dense, Embedding, LSTM, SpatialDropout1D #For layers in Neural Network\n",
        "from keras.utils.np_utils import to_categorical"
      ]
    },
    {
      "cell_type": "code",
      "execution_count": 2,
      "metadata": {
        "id": "OkNeIwOPtf4t",
        "colab": {
          "base_uri": "https://localhost:8080/"
        },
        "outputId": "972b4b0b-0d00-4d2f-fa02-112b04fca5f7"
      },
      "outputs": [
        {
          "output_type": "stream",
          "name": "stdout",
          "text": [
            "Drive already mounted at /content/gdrive; to attempt to forcibly remount, call drive.mount(\"/content/gdrive\", force_remount=True).\n"
          ]
        }
      ],
      "source": [
        "from google.colab import drive\n",
        "drive.mount('/content/gdrive')"
      ]
    },
    {
      "cell_type": "code",
      "execution_count": 3,
      "metadata": {
        "id": "F_9MkNrLtMPD"
      },
      "outputs": [],
      "source": [
        "import pandas as pd\n",
        "\n",
        "path_to_csv = '/content/gdrive/MyDrive/Sentiment.csv'\n",
        "# Load the dataset as a Pandas DataFrame\n",
        "dataset = pd.read_csv(path_to_csv, header=0)\n",
        "\n",
        "# Select only the necessary columns 'text' and 'sentiment'\n",
        "mask = dataset.columns.isin(['text', 'sentiment'])\n",
        "data = dataset.loc[:, mask]\n",
        "\n",
        "# Keeping only the necessary columns\n"
      ]
    },
    {
      "cell_type": "code",
      "execution_count": 4,
      "metadata": {
        "id": "OgLqKOk-wTI7",
        "colab": {
          "base_uri": "https://localhost:8080/"
        },
        "outputId": "92c4764a-3408-4962-f6de-139deb77f811"
      },
      "outputs": [
        {
          "output_type": "stream",
          "name": "stderr",
          "text": [
            "<ipython-input-4-8bc15de6ba7d>:3: SettingWithCopyWarning: \n",
            "A value is trying to be set on a copy of a slice from a DataFrame.\n",
            "Try using .loc[row_indexer,col_indexer] = value instead\n",
            "\n",
            "See the caveats in the documentation: https://pandas.pydata.org/pandas-docs/stable/user_guide/indexing.html#returning-a-view-versus-a-copy\n",
            "  data['text'] = data['text'].apply(lambda x: x.lower())\n",
            "<ipython-input-4-8bc15de6ba7d>:4: SettingWithCopyWarning: \n",
            "A value is trying to be set on a copy of a slice from a DataFrame.\n",
            "Try using .loc[row_indexer,col_indexer] = value instead\n",
            "\n",
            "See the caveats in the documentation: https://pandas.pydata.org/pandas-docs/stable/user_guide/indexing.html#returning-a-view-versus-a-copy\n",
            "  data['text'] = data['text'].apply((lambda x: re.sub('[^a-zA-z0-9\\s]', '', x)))\n"
          ]
        }
      ],
      "source": [
        "# cleaning text , removing all special characters\n",
        "\n",
        "data['text'] = data['text'].apply(lambda x: x.lower())\n",
        "data['text'] = data['text'].apply((lambda x: re.sub('[^a-zA-z0-9\\s]', '', x)))"
      ]
    },
    {
      "cell_type": "code",
      "execution_count": 5,
      "metadata": {
        "id": "kezr9unryjzm"
      },
      "outputs": [],
      "source": [
        "for idx, row in data.iterrows():\n",
        "    row[0] = row[0].replace('rt', ' ') #Removing Retweets"
      ]
    },
    {
      "cell_type": "code",
      "execution_count": 6,
      "metadata": {
        "id": "rXTEJG_RyzqR"
      },
      "outputs": [],
      "source": [
        "max_fatures = 2000\n",
        "tokenizer = Tokenizer(num_words=max_fatures, split=' ') #Maximum words is 2000 to tokenize sentence\n",
        "tokenizer.fit_on_texts(data['text'].values)\n",
        "X = tokenizer.texts_to_sequences(data['text'].values) #taking values to feature matrix\n"
      ]
    },
    {
      "cell_type": "code",
      "execution_count": 7,
      "metadata": {
        "id": "TgLvgT52y30W"
      },
      "outputs": [],
      "source": [
        "X = pad_sequences(X) #Padding the feature matrix\n",
        "\n",
        "embed_dim = 128 #Dimension of the Embedded layer\n",
        "lstm_out = 196 #Long short-term memory (LSTM) layer neurons"
      ]
    },
    {
      "cell_type": "code",
      "execution_count": 8,
      "metadata": {
        "id": "zMTB8dQjy65b"
      },
      "outputs": [],
      "source": [
        "# Sequential Model Creation\n",
        "\n",
        "def createmodel():\n",
        "    model = Sequential() #Sequential Neural Network\n",
        "    model.add(Embedding(max_fatures, embed_dim,input_length = X.shape[1])) #input dimension 2000 Neurons, output dimension 128 Neurons\n",
        "    model.add(LSTM(lstm_out, dropout=0.2, recurrent_dropout=0.2)) #Drop out 20%, 196 output Neurons, recurrent dropout 20%\n",
        "    model.add(Dense(3,activation='softmax')) #3 output neurons[positive, Neutral, Negative], softmax as activation\n",
        "    model.compile(loss = 'categorical_crossentropy', optimizer='adam',metrics = ['accuracy']) #Compiling the model\n",
        "    return model\n",
        "# print(model.summary())"
      ]
    },
    {
      "cell_type": "code",
      "execution_count": 9,
      "metadata": {
        "id": "OwETgBSZy-2X"
      },
      "outputs": [],
      "source": [
        "# Label Encoding of values\n",
        "labelencoder = LabelEncoder() #Applying label Encoding on the label matrix\n",
        "integer_encoded = labelencoder.fit_transform(data['sentiment']) #fitting the model\n",
        "y = to_categorical(integer_encoded)\n",
        "X_train, X_test, Y_train, Y_test = train_test_split(X,y, test_size = 0.33, random_state = 42) #67% training data, 33% test data split"
      ]
    },
    {
      "cell_type": "code",
      "execution_count": 10,
      "metadata": {
        "id": "qSjFXx1rzDuS",
        "colab": {
          "base_uri": "https://localhost:8080/"
        },
        "outputId": "1a611c2c-0205-4090-c65b-6c394ca50701"
      },
      "outputs": [
        {
          "output_type": "stream",
          "name": "stderr",
          "text": [
            "WARNING:tensorflow:Layer lstm will not use cuDNN kernels since it doesn't meet the criteria. It will use a generic GPU kernel as fallback when running on GPU.\n"
          ]
        },
        {
          "output_type": "stream",
          "name": "stdout",
          "text": [
            "291/291 - 59s - loss: 0.8294 - accuracy: 0.6450 - 59s/epoch - 202ms/step\n",
            "144/144 - 2s - loss: 0.7528 - accuracy: 0.6710 - 2s/epoch - 12ms/step\n",
            "0.7528498768806458\n",
            "0.6710354089736938\n"
          ]
        }
      ],
      "source": [
        "# Model Training\n",
        "batch_size = 32 #Batch size 32\n",
        "model = createmodel() #Function call to Sequential Neural Network\n",
        "model.fit(X_train, Y_train, epochs = 1, batch_size=batch_size, verbose = 2) #verbose the higher, the more messages\n",
        "score,acc = model.evaluate(X_test,Y_test,verbose=2,batch_size=batch_size) #evaluating the model\n",
        "print(score)\n",
        "print(acc)"
      ]
    },
    {
      "cell_type": "code",
      "execution_count": 10,
      "metadata": {
        "id": "Rmdh1ehelnUh"
      },
      "outputs": [],
      "source": []
    },
    {
      "cell_type": "code",
      "execution_count": 11,
      "metadata": {
        "id": "Bf2EvPG9zeic",
        "colab": {
          "base_uri": "https://localhost:8080/"
        },
        "outputId": "8669daf2-36e1-4e2f-efe0-2189d4dfa8e0"
      },
      "outputs": [
        {
          "output_type": "stream",
          "name": "stdout",
          "text": [
            "['loss', 'accuracy']\n"
          ]
        }
      ],
      "source": [
        "print(model.metrics_names) #metrics of the model"
      ]
    },
    {
      "cell_type": "markdown",
      "metadata": {
        "id": "Rquip42Szihb"
      },
      "source": [
        "#1. Save the model and use the saved model to predict on new text data (ex, “A lot of good things are happening. We are respected again throughout the world, and that's a great thing.@realDonaldTrump”)"
      ]
    },
    {
      "cell_type": "code",
      "execution_count": 12,
      "metadata": {
        "id": "f3kajJNlzqml"
      },
      "outputs": [],
      "source": [
        "model.save('sentimentAnalysis.h5') #Saving the model"
      ]
    },
    {
      "cell_type": "code",
      "execution_count": 13,
      "metadata": {
        "id": "xpAA1CTIzt-9",
        "colab": {
          "base_uri": "https://localhost:8080/"
        },
        "outputId": "3bfc3118-780d-4a84-b56b-d26c1d9ee836"
      },
      "outputs": [
        {
          "output_type": "stream",
          "name": "stderr",
          "text": [
            "WARNING:tensorflow:Layer lstm will not use cuDNN kernels since it doesn't meet the criteria. It will use a generic GPU kernel as fallback when running on GPU.\n"
          ]
        }
      ],
      "source": [
        "from keras.models import load_model #Importing the package for importing the saved model\n",
        "model= load_model('sentimentAnalysis.h5') #loading the saved model"
      ]
    },
    {
      "cell_type": "code",
      "execution_count": 14,
      "metadata": {
        "id": "uDetTd52zzA1",
        "colab": {
          "base_uri": "https://localhost:8080/"
        },
        "outputId": "622c5fe5-8207-4472-d143-b635005fe796"
      },
      "outputs": [
        {
          "output_type": "stream",
          "name": "stdout",
          "text": [
            "[1 2 1 ... 2 0 2]\n",
            "0         Neutral\n",
            "1        Positive\n",
            "2         Neutral\n",
            "3        Positive\n",
            "4        Positive\n",
            "           ...   \n",
            "13866    Negative\n",
            "13867    Positive\n",
            "13868    Positive\n",
            "13869    Negative\n",
            "13870    Positive\n",
            "Name: sentiment, Length: 13871, dtype: object\n"
          ]
        }
      ],
      "source": [
        "print(integer_encoded)\n",
        "print(data['sentiment'])"
      ]
    },
    {
      "cell_type": "code",
      "execution_count": 15,
      "metadata": {
        "id": "nmt0a-S8z3vM",
        "colab": {
          "base_uri": "https://localhost:8080/"
        },
        "outputId": "0fb2e6db-8ae3-499a-fdf8-be0f209892e1"
      },
      "outputs": [
        {
          "output_type": "stream",
          "name": "stdout",
          "text": [
            "1/1 - 0s - 370ms/epoch - 370ms/step\n",
            "[0.733563   0.12827614 0.13816082]\n",
            "Neutral\n"
          ]
        }
      ],
      "source": [
        "# Predicting on the text data\n",
        "sentence = ['A lot of good things are happening. We are respected again throughout the world, and that is a great thing.@realDonaldTrump']\n",
        "\n",
        "sentence = tokenizer.texts_to_sequences(sentence) # Tokenizing the sentence\n",
        "sentence = pad_sequences(sentence, maxlen=28, dtype='int32', value=0) # Padding the sentence\n",
        "sentiment_probs = model.predict(sentence, batch_size=1, verbose=2)[0] # Predicting the sentence text\n",
        "sentiment = np.argmax(sentiment_probs)\n",
        "\n",
        "print(sentiment_probs)\n",
        "if sentiment == 0:\n",
        "    print(\"Neutral\")\n",
        "elif sentiment < 0:\n",
        "    print(\"Negative\")\n",
        "elif sentiment > 0:\n",
        "    print(\"Positive\")\n",
        "else:\n",
        "    print(\"Cannot be determined\")\n"
      ]
    },
    {
      "cell_type": "markdown",
      "metadata": {
        "id": "QEnfsO0OCvFB"
      },
      "source": [
        "#2. Apply GridSearchCV on the source code provided in the class"
      ]
    },
    {
      "cell_type": "code",
      "execution_count": null,
      "metadata": {
        "id": "cNyJbCLR1e3A",
        "colab": {
          "base_uri": "https://localhost:8080/"
        },
        "outputId": "5f995019-7940-4ffc-d1a7-82d74aea1538"
      },
      "outputs": [
        {
          "output_type": "stream",
          "name": "stderr",
          "text": [
            "<ipython-input-16-6c99b49150f4>:4: DeprecationWarning: KerasClassifier is deprecated, use Sci-Keras (https://github.com/adriangb/scikeras) instead. See https://www.adriangb.com/scikeras/stable/migration.html for help migrating.\n",
            "  model = KerasClassifier(build_fn=createmodel,verbose=2) #initiating model to test performance by applying multiple hyper parameters\n",
            "WARNING:tensorflow:Layer lstm_1 will not use cuDNN kernels since it doesn't meet the criteria. It will use a generic GPU kernel as fallback when running on GPU.\n"
          ]
        },
        {
          "output_type": "stream",
          "name": "stdout",
          "text": [
            "744/744 - 115s - loss: 0.8252 - accuracy: 0.6438 - 115s/epoch - 155ms/step\n",
            "186/186 - 3s - loss: 0.7521 - accuracy: 0.6622 - 3s/epoch - 16ms/step\n"
          ]
        },
        {
          "output_type": "stream",
          "name": "stderr",
          "text": [
            "WARNING:tensorflow:Layer lstm_2 will not use cuDNN kernels since it doesn't meet the criteria. It will use a generic GPU kernel as fallback when running on GPU.\n"
          ]
        },
        {
          "output_type": "stream",
          "name": "stdout",
          "text": [
            "744/744 - 113s - loss: 0.8207 - accuracy: 0.6493 - 113s/epoch - 151ms/step\n",
            "186/186 - 3s - loss: 0.7599 - accuracy: 0.6746 - 3s/epoch - 16ms/step\n"
          ]
        },
        {
          "output_type": "stream",
          "name": "stderr",
          "text": [
            "WARNING:tensorflow:Layer lstm_3 will not use cuDNN kernels since it doesn't meet the criteria. It will use a generic GPU kernel as fallback when running on GPU.\n"
          ]
        },
        {
          "output_type": "stream",
          "name": "stdout",
          "text": [
            "744/744 - 112s - loss: 0.8261 - accuracy: 0.6438 - 112s/epoch - 151ms/step\n",
            "186/186 - 2s - loss: 0.7709 - accuracy: 0.6751 - 2s/epoch - 12ms/step\n"
          ]
        },
        {
          "output_type": "stream",
          "name": "stderr",
          "text": [
            "WARNING:tensorflow:Layer lstm_4 will not use cuDNN kernels since it doesn't meet the criteria. It will use a generic GPU kernel as fallback when running on GPU.\n"
          ]
        },
        {
          "output_type": "stream",
          "name": "stdout",
          "text": [
            "744/744 - 111s - loss: 0.8249 - accuracy: 0.6469 - 111s/epoch - 149ms/step\n",
            "186/186 - 2s - loss: 0.7637 - accuracy: 0.6738 - 2s/epoch - 12ms/step\n"
          ]
        },
        {
          "output_type": "stream",
          "name": "stderr",
          "text": [
            "WARNING:tensorflow:Layer lstm_5 will not use cuDNN kernels since it doesn't meet the criteria. It will use a generic GPU kernel as fallback when running on GPU.\n"
          ]
        },
        {
          "output_type": "stream",
          "name": "stdout",
          "text": [
            "744/744 - 124s - loss: 0.8216 - accuracy: 0.6433 - 124s/epoch - 166ms/step\n",
            "186/186 - 2s - loss: 0.7893 - accuracy: 0.6464 - 2s/epoch - 12ms/step\n"
          ]
        },
        {
          "output_type": "stream",
          "name": "stderr",
          "text": [
            "WARNING:tensorflow:Layer lstm_6 will not use cuDNN kernels since it doesn't meet the criteria. It will use a generic GPU kernel as fallback when running on GPU.\n"
          ]
        },
        {
          "output_type": "stream",
          "name": "stdout",
          "text": [
            "Epoch 1/2\n",
            "744/744 - 115s - loss: 0.8195 - accuracy: 0.6500 - 115s/epoch - 154ms/step\n",
            "Epoch 2/2\n",
            "744/744 - 100s - loss: 0.6742 - accuracy: 0.7154 - 100s/epoch - 134ms/step\n",
            "186/186 - 2s - loss: 0.7385 - accuracy: 0.6789 - 2s/epoch - 12ms/step\n"
          ]
        },
        {
          "output_type": "stream",
          "name": "stderr",
          "text": [
            "WARNING:tensorflow:Layer lstm_7 will not use cuDNN kernels since it doesn't meet the criteria. It will use a generic GPU kernel as fallback when running on GPU.\n"
          ]
        },
        {
          "output_type": "stream",
          "name": "stdout",
          "text": [
            "Epoch 1/2\n",
            "744/744 - 114s - loss: 0.8251 - accuracy: 0.6469 - 114s/epoch - 153ms/step\n",
            "Epoch 2/2\n",
            "744/744 - 101s - loss: 0.6831 - accuracy: 0.7113 - 101s/epoch - 136ms/step\n",
            "186/186 - 3s - loss: 0.7479 - accuracy: 0.6622 - 3s/epoch - 14ms/step\n"
          ]
        },
        {
          "output_type": "stream",
          "name": "stderr",
          "text": [
            "WARNING:tensorflow:Layer lstm_8 will not use cuDNN kernels since it doesn't meet the criteria. It will use a generic GPU kernel as fallback when running on GPU.\n"
          ]
        },
        {
          "output_type": "stream",
          "name": "stdout",
          "text": [
            "Epoch 1/2\n",
            "744/744 - 115s - loss: 0.8268 - accuracy: 0.6457 - 115s/epoch - 155ms/step\n",
            "Epoch 2/2\n",
            "744/744 - 102s - loss: 0.6753 - accuracy: 0.7146 - 102s/epoch - 138ms/step\n",
            "186/186 - 3s - loss: 0.7547 - accuracy: 0.6772 - 3s/epoch - 18ms/step\n"
          ]
        },
        {
          "output_type": "stream",
          "name": "stderr",
          "text": [
            "WARNING:tensorflow:Layer lstm_9 will not use cuDNN kernels since it doesn't meet the criteria. It will use a generic GPU kernel as fallback when running on GPU.\n"
          ]
        },
        {
          "output_type": "stream",
          "name": "stdout",
          "text": [
            "Epoch 1/2\n",
            "744/744 - 114s - loss: 0.8222 - accuracy: 0.6451 - 114s/epoch - 154ms/step\n",
            "Epoch 2/2\n",
            "744/744 - 105s - loss: 0.6719 - accuracy: 0.7116 - 105s/epoch - 141ms/step\n",
            "186/186 - 3s - loss: 0.7599 - accuracy: 0.6728 - 3s/epoch - 17ms/step\n"
          ]
        },
        {
          "output_type": "stream",
          "name": "stderr",
          "text": [
            "WARNING:tensorflow:Layer lstm_10 will not use cuDNN kernels since it doesn't meet the criteria. It will use a generic GPU kernel as fallback when running on GPU.\n"
          ]
        },
        {
          "output_type": "stream",
          "name": "stdout",
          "text": [
            "Epoch 1/2\n",
            "744/744 - 113s - loss: 0.8243 - accuracy: 0.6448 - 113s/epoch - 152ms/step\n",
            "Epoch 2/2\n",
            "744/744 - 103s - loss: 0.6650 - accuracy: 0.7198 - 103s/epoch - 139ms/step\n",
            "186/186 - 3s - loss: 0.7985 - accuracy: 0.6480 - 3s/epoch - 17ms/step\n"
          ]
        },
        {
          "output_type": "stream",
          "name": "stderr",
          "text": [
            "WARNING:tensorflow:Layer lstm_11 will not use cuDNN kernels since it doesn't meet the criteria. It will use a generic GPU kernel as fallback when running on GPU.\n"
          ]
        },
        {
          "output_type": "stream",
          "name": "stdout",
          "text": [
            "372/372 - 67s - loss: 0.8309 - accuracy: 0.6423 - 67s/epoch - 180ms/step\n",
            "93/93 - 1s - loss: 0.7527 - accuracy: 0.6799 - 1s/epoch - 13ms/step\n"
          ]
        },
        {
          "output_type": "stream",
          "name": "stderr",
          "text": [
            "WARNING:tensorflow:Layer lstm_12 will not use cuDNN kernels since it doesn't meet the criteria. It will use a generic GPU kernel as fallback when running on GPU.\n"
          ]
        },
        {
          "output_type": "stream",
          "name": "stdout",
          "text": [
            "372/372 - 66s - loss: 0.8250 - accuracy: 0.6468 - 66s/epoch - 176ms/step\n",
            "93/93 - 1s - loss: 0.7895 - accuracy: 0.6471 - 1s/epoch - 13ms/step\n"
          ]
        },
        {
          "output_type": "stream",
          "name": "stderr",
          "text": [
            "WARNING:tensorflow:Layer lstm_13 will not use cuDNN kernels since it doesn't meet the criteria. It will use a generic GPU kernel as fallback when running on GPU.\n"
          ]
        },
        {
          "output_type": "stream",
          "name": "stdout",
          "text": [
            "372/372 - 66s - loss: 0.8334 - accuracy: 0.6384 - 66s/epoch - 177ms/step\n",
            "93/93 - 1s - loss: 0.7660 - accuracy: 0.6885 - 1s/epoch - 16ms/step\n"
          ]
        },
        {
          "output_type": "stream",
          "name": "stderr",
          "text": [
            "WARNING:tensorflow:Layer lstm_14 will not use cuDNN kernels since it doesn't meet the criteria. It will use a generic GPU kernel as fallback when running on GPU.\n"
          ]
        },
        {
          "output_type": "stream",
          "name": "stdout",
          "text": [
            "372/372 - 63s - loss: 0.8337 - accuracy: 0.6418 - 63s/epoch - 169ms/step\n",
            "93/93 - 1s - loss: 0.7722 - accuracy: 0.6744 - 1s/epoch - 15ms/step\n"
          ]
        },
        {
          "output_type": "stream",
          "name": "stderr",
          "text": [
            "WARNING:tensorflow:Layer lstm_15 will not use cuDNN kernels since it doesn't meet the criteria. It will use a generic GPU kernel as fallback when running on GPU.\n"
          ]
        },
        {
          "output_type": "stream",
          "name": "stdout",
          "text": [
            "372/372 - 65s - loss: 0.8194 - accuracy: 0.6456 - 65s/epoch - 174ms/step\n",
            "93/93 - 1s - loss: 0.7655 - accuracy: 0.6717 - 1s/epoch - 13ms/step\n"
          ]
        },
        {
          "output_type": "stream",
          "name": "stderr",
          "text": [
            "WARNING:tensorflow:Layer lstm_16 will not use cuDNN kernels since it doesn't meet the criteria. It will use a generic GPU kernel as fallback when running on GPU.\n"
          ]
        },
        {
          "output_type": "stream",
          "name": "stdout",
          "text": [
            "Epoch 1/2\n",
            "372/372 - 64s - loss: 0.8359 - accuracy: 0.6460 - 64s/epoch - 172ms/step\n",
            "Epoch 2/2\n",
            "372/372 - 52s - loss: 0.6812 - accuracy: 0.7084 - 52s/epoch - 140ms/step\n",
            "93/93 - 1s - loss: 0.7455 - accuracy: 0.6842 - 1s/epoch - 15ms/step\n"
          ]
        },
        {
          "output_type": "stream",
          "name": "stderr",
          "text": [
            "WARNING:tensorflow:Layer lstm_17 will not use cuDNN kernels since it doesn't meet the criteria. It will use a generic GPU kernel as fallback when running on GPU.\n"
          ]
        },
        {
          "output_type": "stream",
          "name": "stdout",
          "text": [
            "Epoch 1/2\n",
            "372/372 - 62s - loss: 0.8273 - accuracy: 0.6447 - 62s/epoch - 168ms/step\n",
            "Epoch 2/2\n",
            "372/372 - 52s - loss: 0.6836 - accuracy: 0.7059 - 52s/epoch - 140ms/step\n",
            "93/93 - 1s - loss: 0.7390 - accuracy: 0.6810 - 1s/epoch - 15ms/step\n"
          ]
        },
        {
          "output_type": "stream",
          "name": "stderr",
          "text": [
            "WARNING:tensorflow:Layer lstm_18 will not use cuDNN kernels since it doesn't meet the criteria. It will use a generic GPU kernel as fallback when running on GPU.\n"
          ]
        },
        {
          "output_type": "stream",
          "name": "stdout",
          "text": [
            "Epoch 1/2\n",
            "372/372 - 62s - loss: 0.8249 - accuracy: 0.6398 - 62s/epoch - 166ms/step\n",
            "Epoch 2/2\n",
            "372/372 - 52s - loss: 0.6806 - accuracy: 0.7137 - 52s/epoch - 140ms/step\n",
            "93/93 - 1s - loss: 0.7382 - accuracy: 0.6896 - 1s/epoch - 12ms/step\n"
          ]
        },
        {
          "output_type": "stream",
          "name": "stderr",
          "text": [
            "WARNING:tensorflow:Layer lstm_19 will not use cuDNN kernels since it doesn't meet the criteria. It will use a generic GPU kernel as fallback when running on GPU.\n"
          ]
        },
        {
          "output_type": "stream",
          "name": "stdout",
          "text": [
            "Epoch 1/2\n",
            "372/372 - 65s - loss: 0.8342 - accuracy: 0.6421 - 65s/epoch - 174ms/step\n",
            "Epoch 2/2\n",
            "372/372 - 52s - loss: 0.6794 - accuracy: 0.7080 - 52s/epoch - 140ms/step\n",
            "93/93 - 1s - loss: 0.7441 - accuracy: 0.6792 - 1s/epoch - 13ms/step\n"
          ]
        },
        {
          "output_type": "stream",
          "name": "stderr",
          "text": [
            "WARNING:tensorflow:Layer lstm_20 will not use cuDNN kernels since it doesn't meet the criteria. It will use a generic GPU kernel as fallback when running on GPU.\n"
          ]
        },
        {
          "output_type": "stream",
          "name": "stdout",
          "text": [
            "Epoch 1/2\n",
            "372/372 - 63s - loss: 0.8261 - accuracy: 0.6437 - 63s/epoch - 169ms/step\n",
            "Epoch 2/2\n",
            "372/372 - 50s - loss: 0.6735 - accuracy: 0.7110 - 50s/epoch - 134ms/step\n",
            "93/93 - 2s - loss: 0.7905 - accuracy: 0.6437 - 2s/epoch - 18ms/step\n"
          ]
        },
        {
          "output_type": "stream",
          "name": "stderr",
          "text": [
            "WARNING:tensorflow:Layer lstm_21 will not use cuDNN kernels since it doesn't meet the criteria. It will use a generic GPU kernel as fallback when running on GPU.\n"
          ]
        },
        {
          "output_type": "stream",
          "name": "stdout",
          "text": [
            "186/186 - 39s - loss: 0.8541 - accuracy: 0.6316 - 39s/epoch - 210ms/step\n",
            "47/47 - 1s - loss: 0.7553 - accuracy: 0.6633 - 1s/epoch - 25ms/step\n"
          ]
        },
        {
          "output_type": "stream",
          "name": "stderr",
          "text": [
            "WARNING:tensorflow:Layer lstm_22 will not use cuDNN kernels since it doesn't meet the criteria. It will use a generic GPU kernel as fallback when running on GPU.\n"
          ]
        },
        {
          "output_type": "stream",
          "name": "stdout",
          "text": [
            "186/186 - 39s - loss: 0.8430 - accuracy: 0.6333 - 39s/epoch - 210ms/step\n",
            "47/47 - 1s - loss: 0.7741 - accuracy: 0.6724 - 781ms/epoch - 17ms/step\n"
          ]
        },
        {
          "output_type": "stream",
          "name": "stderr",
          "text": [
            "WARNING:tensorflow:Layer lstm_23 will not use cuDNN kernels since it doesn't meet the criteria. It will use a generic GPU kernel as fallback when running on GPU.\n"
          ]
        },
        {
          "output_type": "stream",
          "name": "stdout",
          "text": [
            "186/186 - 39s - loss: 0.8534 - accuracy: 0.6313 - 39s/epoch - 208ms/step\n",
            "47/47 - 1s - loss: 0.7735 - accuracy: 0.6697 - 765ms/epoch - 16ms/step\n"
          ]
        },
        {
          "output_type": "stream",
          "name": "stderr",
          "text": [
            "WARNING:tensorflow:Layer lstm_24 will not use cuDNN kernels since it doesn't meet the criteria. It will use a generic GPU kernel as fallback when running on GPU.\n"
          ]
        },
        {
          "output_type": "stream",
          "name": "stdout",
          "text": [
            "186/186 - 39s - loss: 0.8591 - accuracy: 0.6324 - 39s/epoch - 212ms/step\n",
            "47/47 - 1s - loss: 0.7662 - accuracy: 0.6738 - 742ms/epoch - 16ms/step\n"
          ]
        },
        {
          "output_type": "stream",
          "name": "stderr",
          "text": [
            "WARNING:tensorflow:Layer lstm_25 will not use cuDNN kernels since it doesn't meet the criteria. It will use a generic GPU kernel as fallback when running on GPU.\n"
          ]
        },
        {
          "output_type": "stream",
          "name": "stdout",
          "text": [
            "186/186 - 40s - loss: 0.8369 - accuracy: 0.6350 - 40s/epoch - 214ms/step\n",
            "47/47 - 1s - loss: 0.7913 - accuracy: 0.6577 - 1s/epoch - 25ms/step\n"
          ]
        },
        {
          "output_type": "stream",
          "name": "stderr",
          "text": [
            "WARNING:tensorflow:Layer lstm_26 will not use cuDNN kernels since it doesn't meet the criteria. It will use a generic GPU kernel as fallback when running on GPU.\n"
          ]
        },
        {
          "output_type": "stream",
          "name": "stdout",
          "text": [
            "Epoch 1/2\n",
            "186/186 - 37s - loss: 0.8477 - accuracy: 0.6357 - 37s/epoch - 197ms/step\n",
            "Epoch 2/2\n",
            "186/186 - 28s - loss: 0.6945 - accuracy: 0.7007 - 28s/epoch - 150ms/step\n",
            "47/47 - 1s - loss: 0.7221 - accuracy: 0.6842 - 1s/epoch - 23ms/step\n"
          ]
        },
        {
          "output_type": "stream",
          "name": "stderr",
          "text": [
            "WARNING:tensorflow:Layer lstm_27 will not use cuDNN kernels since it doesn't meet the criteria. It will use a generic GPU kernel as fallback when running on GPU.\n"
          ]
        },
        {
          "output_type": "stream",
          "name": "stdout",
          "text": [
            "Epoch 1/2\n",
            "186/186 - 37s - loss: 0.8379 - accuracy: 0.6431 - 37s/epoch - 199ms/step\n",
            "Epoch 2/2\n"
          ]
        }
      ],
      "source": [
        "from keras.wrappers.scikit_learn import KerasClassifier #importing Keras classifier\n",
        "from sklearn.model_selection import GridSearchCV #importing Grid search CV\n",
        "\n",
        "model = KerasClassifier(build_fn=createmodel,verbose=2) #initiating model to test performance by applying multiple hyper parameters\n",
        "batch_size= [10, 20, 40] #hyper parameter batch_size\n",
        "epochs = [1, 2] #hyper parameter no. of epochs\n",
        "param_grid= {'batch_size':batch_size, 'epochs':epochs} #creating dictionary for batch size, no. of epochs\n",
        "grid  = GridSearchCV(estimator=model, param_grid=param_grid) #Applying dictionary with hyper parameters\n",
        "grid_result= grid.fit(X_train,Y_train) #Fitting the model\n",
        "# summarize results\n",
        "print(\"Best: %f using %s\" % (grid_result.best_score_, grid_result.best_params_)) #best score, best hyper parameters"
      ]
    },
    {
      "cell_type": "code",
      "execution_count": null,
      "metadata": {
        "id": "F5Z1Q70KlvT-"
      },
      "outputs": [],
      "source": []
    }
  ],
  "metadata": {
    "accelerator": "GPU",
    "colab": {
      "provenance": [],
      "gpuType": "T4"
    },
    "kernelspec": {
      "display_name": "Python 3",
      "name": "python3"
    },
    "language_info": {
      "name": "python"
    }
  },
  "nbformat": 4,
  "nbformat_minor": 0
}